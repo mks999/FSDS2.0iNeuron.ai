{
 "cells": [
  {
   "cell_type": "markdown",
   "metadata": {
    "id": "9VW9do1pDsfU"
   },
   "source": [
    "Q1. In the below elements which of them are values or an expression? eg:- values can be integer or string and expressions will be mathematical operators.\n",
    "\n",
    "- 'hello'\n",
    "- -87.8\n",
    "- -\n",
    "- /\n",
    "- +\n",
    "- 6\n",
    "\n",
    "Answer\n",
    "- 'hello' - value\n",
    "- -87.8 - value\n",
    "- -  expression\n",
    "- / expression\n",
    "- +\texpression\n",
    "- 6 value"
   ]
  },
  {
   "cell_type": "markdown",
   "metadata": {
    "id": "r69jlzbEEwFu"
   },
   "source": [
    "Q2. What is the difference between string and variable?\n",
    "\n",
    "Answer\n",
    "- String is a type of data in text form while a variable is like a container which can store different data type values.\n"
   ]
  },
  {
   "cell_type": "markdown",
   "metadata": {
    "id": "4_ueg3SqE1Gg"
   },
   "source": [
    "Q3. Describe three different data types.\n",
    "\n",
    "Answer\n",
    "- Int – It has Integer values as data type, for example 2, 3 and mathematical operations can be performed on them directly.\n",
    "- String – It has text as data type, for example simple English words like “Money” and represented inside inverted commas in python.\n",
    "- Float – It is a data type which has decimal values as well, for example 20.36.\n",
    "- Bool – It is a data type which represents two binary conditions True and False.\n"
   ]
  },
  {
   "cell_type": "markdown",
   "metadata": {
    "id": "04uNWWryFIk_"
   },
   "source": [
    "Q4. What is an expression made up of? What do all expressions do?\n",
    "\n",
    "Answer\n",
    "\n",
    "An expression is a combination of operators, constants and variables and may consist of one or more operands, and one or more operators.\n",
    "\n",
    "Expressions produce a value.\n",
    "\n",
    "For example, A = x+y*z-8 is an example of an expression, where +, * are operators; x, y, and z are variables, and 8 is a constant."
   ]
  },
  {
   "cell_type": "markdown",
   "metadata": {
    "id": "xy13I3j1FNDo"
   },
   "source": [
    "Q5. The assignment statements, like spam = 10. What is the difference between an expression and a statement?\n",
    "\n",
    "Answer\n",
    "- Expression represents the mathematical operators like '+', '-' or '=', while statement represent a line of code which can contain expressions as well as different data types.\n"
   ]
  },
  {
   "cell_type": "markdown",
   "metadata": {
    "id": "quPi7xcuFfvV"
   },
   "source": [
    "Q6. After running the following code, what does the variable bacon contain?\n",
    "bacon = 22\n",
    "bacon + 1 = \n",
    "\n",
    "Answer\n",
    "22\n",
    "\n",
    "code given below"
   ]
  },
  {
   "cell_type": "code",
   "execution_count": 2,
   "metadata": {
    "colab": {
     "base_uri": "https://localhost:8080/"
    },
    "id": "csdbuNY3HU8Z",
    "outputId": "41924949-b1bb-46b2-c24a-7510d34cfdeb"
   },
   "outputs": [
    {
     "data": {
      "text/plain": [
       "22"
      ]
     },
     "execution_count": 2,
     "metadata": {},
     "output_type": "execute_result"
    }
   ],
   "source": [
    "bacon = 22\n",
    "bacon + 1\n",
    "bacon"
   ]
  },
  {
   "cell_type": "markdown",
   "metadata": {
    "id": "eRxLiOE0HjhH"
   },
   "source": [
    "Q7. What should the values of the following two terms be?\n",
    "- 'spam' + 'spamspam'\n",
    "- 'spam' * 3\n",
    "\n",
    "Answer\n",
    "\n",
    "- ‘spamspamspam’ \n",
    "- ‘spamspamspam’ \n",
    "\n",
    "code given below\n"
   ]
  },
  {
   "cell_type": "code",
   "execution_count": 4,
   "metadata": {
    "colab": {
     "base_uri": "https://localhost:8080/"
    },
    "id": "qohzyRUIHzGG",
    "outputId": "92c0d1c4-b1f3-41b6-8dfe-343ff69a0783"
   },
   "outputs": [
    {
     "name": "stdout",
     "output_type": "stream",
     "text": [
      "spamspamspam\n",
      "spamspamspam\n"
     ]
    }
   ],
   "source": [
    "print('spam' + 'spamspam')\n",
    "print('spam' * 3)"
   ]
  },
  {
   "cell_type": "markdown",
   "metadata": {
    "id": "8ItU59pDIHyF"
   },
   "source": [
    "Q8. Why is eggs a valid variable name while 100 is invalid?\n",
    "\n",
    "Answer\n",
    "\n",
    "Because by convention numbers can’t be used as it is or at starting of a variable name in python.\n"
   ]
  },
  {
   "cell_type": "markdown",
   "metadata": {
    "id": "qZ1maiyVKgyH"
   },
   "source": [
    "Q9. What three functions can be used to get the integer, floating-point number, or string version of a value?\n",
    "\n",
    "Answer\n",
    "\n",
    "- int()\n",
    "- float()\n",
    "- str()\n"
   ]
  },
  {
   "cell_type": "markdown",
   "metadata": {
    "id": "FN8Pw4BvKtIu"
   },
   "source": [
    "Q10. Why does this expression cause an error? How can you fix it?\n",
    "'I have eaten ' + 99 + ' burritos.'\n",
    "\n",
    "Answer\n",
    "\n",
    "It shows - TypeError: can only concatenate str (not \"int\") to str\n",
    "\n",
    "We can fix it by converting 99 into a string by using str(99) or putting it into double inverted commas as \"99\" in place of 99 in this code line.\n",
    "\n",
    "code given below"
   ]
  },
  {
   "cell_type": "code",
   "execution_count": 6,
   "metadata": {
    "colab": {
     "base_uri": "https://localhost:8080/",
     "height": 35
    },
    "id": "TdTMYqRWK0-v",
    "outputId": "6a471d11-f471-4586-82f5-863a885522b6"
   },
   "outputs": [
    {
     "data": {
      "application/vnd.google.colaboratory.intrinsic+json": {
       "type": "string"
      },
      "text/plain": [
       "'I have eaten 99 burritos.'"
      ]
     },
     "execution_count": 6,
     "metadata": {},
     "output_type": "execute_result"
    }
   ],
   "source": [
    "'I have eaten ' + str(99) + ' burritos.'"
   ]
  },
  {
   "cell_type": "code",
   "execution_count": 7,
   "metadata": {
    "colab": {
     "base_uri": "https://localhost:8080/",
     "height": 35
    },
    "id": "JH8fa_lzK501",
    "outputId": "a78a3535-5c58-433b-925b-f549618fe6fc"
   },
   "outputs": [
    {
     "data": {
      "application/vnd.google.colaboratory.intrinsic+json": {
       "type": "string"
      },
      "text/plain": [
       "'I have eaten 99 burritos.'"
      ]
     },
     "execution_count": 7,
     "metadata": {},
     "output_type": "execute_result"
    }
   ],
   "source": [
    "'I have eaten ' + \"99\" + ' burritos.'"
   ]
  }
 ],
 "metadata": {
  "colab": {
   "collapsed_sections": [],
   "provenance": []
  },
  "kernelspec": {
   "display_name": "Python 3 (ipykernel)",
   "language": "python",
   "name": "python3"
  },
  "language_info": {
   "codemirror_mode": {
    "name": "ipython",
    "version": 3
   },
   "file_extension": ".py",
   "mimetype": "text/x-python",
   "name": "python",
   "nbconvert_exporter": "python",
   "pygments_lexer": "ipython3",
   "version": "3.9.12"
  }
 },
 "nbformat": 4,
 "nbformat_minor": 1
}
