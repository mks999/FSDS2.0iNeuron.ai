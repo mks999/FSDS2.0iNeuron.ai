{
  "nbformat": 4,
  "nbformat_minor": 0,
  "metadata": {
    "colab": {
      "provenance": [],
      "collapsed_sections": []
    },
    "kernelspec": {
      "name": "python3",
      "display_name": "Python 3"
    },
    "language_info": {
      "name": "python"
    }
  },
  "cells": [
    {
      "cell_type": "markdown",
      "source": [
        "1. In the below elements which of them are values or an expression? eg:- values can be integer or string and expressions will be mathematical operators.\n",
        "\n",
        "#####'hello'\n",
        "#####-87.8\n",
        "#####-\n",
        "#####/\n",
        "#####+\n",
        "#####6\n",
        "\n",
        "Answer\n",
        "#####'hello' - value\n",
        "#####-87.8 - value\n",
        "#####-  expression\n",
        "#####/ expression\n",
        "#####+\texpression\n",
        "#####6 value"
      ],
      "metadata": {
        "id": "9VW9do1pDsfU"
      }
    },
    {
      "cell_type": "markdown",
      "source": [
        "2. What is the difference between string and variable?\n",
        "\n",
        "Answer\n",
        "#####String is a type of data in text form while a variable is like a container which can store different data type values.\n"
      ],
      "metadata": {
        "id": "r69jlzbEEwFu"
      }
    },
    {
      "cell_type": "markdown",
      "source": [
        "3. Describe three different data types.\n",
        "\n",
        "Answer\n",
        "- Int – It has Integer values as data type, for example 2, 3 and mathematical operations can be performed on them directly.\n",
        "- String – It has text as data type, for example simple English words like “Money” and represented inside inverted commas in python.\n",
        "- Float – It is a data type which has decimal values as well, for example 20.36.\n",
        "- Bool – It is a data type which represents two binary conditions True and False.\n"
      ],
      "metadata": {
        "id": "4_ueg3SqE1Gg"
      }
    },
    {
      "cell_type": "markdown",
      "source": [
        "4. What is an expression made up of? What do all expressions do?\n",
        "\n",
        "Answer\n",
        "\n",
        "An expression is a combination of operators, constants and variables and may consist of one or more operands, and one or more operators.\n",
        "\n",
        "Expressions produce a value.\n",
        "\n",
        "For example, A = x+y*z-8 is an example of an expression, where +, * are operators; x, y, and z are variables, and 8 is a constant."
      ],
      "metadata": {
        "id": "04uNWWryFIk_"
      }
    },
    {
      "cell_type": "markdown",
      "source": [
        "5. The assignment statements, like spam = 10. What is the difference between an expression and a statement?\n",
        "\n",
        "Answer\n",
        "- Expression represents the mathematical operators like '+', '-' or '=', while statement represent a line of code which can contain expressions as well as different data types.\n"
      ],
      "metadata": {
        "id": "xy13I3j1FNDo"
      }
    },
    {
      "cell_type": "markdown",
      "source": [
        "6. After running the following code, what does the variable bacon contain?\n",
        "bacon = 22\n",
        "bacon + 1 = \n",
        "\n",
        "Answer\n",
        "22\n",
        "\n",
        "code given below"
      ],
      "metadata": {
        "id": "quPi7xcuFfvV"
      }
    },
    {
      "cell_type": "code",
      "source": [
        "bacon = 22\n",
        "bacon + 1\n",
        "bacon"
      ],
      "metadata": {
        "colab": {
          "base_uri": "https://localhost:8080/"
        },
        "id": "csdbuNY3HU8Z",
        "outputId": "41924949-b1bb-46b2-c24a-7510d34cfdeb"
      },
      "execution_count": 2,
      "outputs": [
        {
          "output_type": "execute_result",
          "data": {
            "text/plain": [
              "22"
            ]
          },
          "metadata": {},
          "execution_count": 2
        }
      ]
    },
    {
      "cell_type": "markdown",
      "source": [
        "7. What should the values of the following two terms be?\n",
        "- 'spam' + 'spamspam'\n",
        "- 'spam' * 3\n",
        "\n",
        "Answer\n",
        "\n",
        "- ‘spamspamspam’ \n",
        "- ‘spamspamspam’ \n",
        "\n",
        "code given below\n"
      ],
      "metadata": {
        "id": "eRxLiOE0HjhH"
      }
    },
    {
      "cell_type": "code",
      "source": [
        "print('spam' + 'spamspam')\n",
        "print('spam' * 3)"
      ],
      "metadata": {
        "colab": {
          "base_uri": "https://localhost:8080/"
        },
        "id": "qohzyRUIHzGG",
        "outputId": "92c0d1c4-b1f3-41b6-8dfe-343ff69a0783"
      },
      "execution_count": 4,
      "outputs": [
        {
          "output_type": "stream",
          "name": "stdout",
          "text": [
            "spamspamspam\n",
            "spamspamspam\n"
          ]
        }
      ]
    },
    {
      "cell_type": "markdown",
      "source": [
        "8. Why is eggs a valid variable name while 100 is invalid?\n",
        "\n",
        "Answer\n",
        "\n",
        "Because by convention numbers can’t be used as it is or at starting of a variable name in python.\n"
      ],
      "metadata": {
        "id": "8ItU59pDIHyF"
      }
    },
    {
      "cell_type": "markdown",
      "source": [
        "9. What three functions can be used to get the integer, floating-point number, or string version of a value?\n",
        "\n",
        "Answer\n",
        "\n",
        "- int()\n",
        "- float()\n",
        "- str()\n"
      ],
      "metadata": {
        "id": "qZ1maiyVKgyH"
      }
    },
    {
      "cell_type": "markdown",
      "source": [
        "10. Why does this expression cause an error? How can you fix it?\n",
        "'I have eaten ' + 99 + ' burritos.'\n",
        "\n",
        "Answer\n",
        "\n",
        "It shows - TypeError: can only concatenate str (not \"int\") to str\n",
        "\n",
        "We can fix it by converting 99 into a string by using str(99) or putting it into double inverted commas as \"99\" in place of 99 in this code line.\n",
        "\n",
        "code given below"
      ],
      "metadata": {
        "id": "FN8Pw4BvKtIu"
      }
    },
    {
      "cell_type": "code",
      "source": [
        "'I have eaten ' + str(99) + ' burritos.'"
      ],
      "metadata": {
        "colab": {
          "base_uri": "https://localhost:8080/",
          "height": 35
        },
        "id": "TdTMYqRWK0-v",
        "outputId": "6a471d11-f471-4586-82f5-863a885522b6"
      },
      "execution_count": 6,
      "outputs": [
        {
          "output_type": "execute_result",
          "data": {
            "text/plain": [
              "'I have eaten 99 burritos.'"
            ],
            "application/vnd.google.colaboratory.intrinsic+json": {
              "type": "string"
            }
          },
          "metadata": {},
          "execution_count": 6
        }
      ]
    },
    {
      "cell_type": "code",
      "source": [
        "'I have eaten ' + \"99\" + ' burritos.'"
      ],
      "metadata": {
        "colab": {
          "base_uri": "https://localhost:8080/",
          "height": 35
        },
        "id": "JH8fa_lzK501",
        "outputId": "a78a3535-5c58-433b-925b-f549618fe6fc"
      },
      "execution_count": 7,
      "outputs": [
        {
          "output_type": "execute_result",
          "data": {
            "text/plain": [
              "'I have eaten 99 burritos.'"
            ],
            "application/vnd.google.colaboratory.intrinsic+json": {
              "type": "string"
            }
          },
          "metadata": {},
          "execution_count": 7
        }
      ]
    }
  ]
}