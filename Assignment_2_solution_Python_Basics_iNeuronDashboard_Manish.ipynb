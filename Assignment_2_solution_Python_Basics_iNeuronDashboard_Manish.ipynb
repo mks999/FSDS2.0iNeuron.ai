{
 "cells": [
  {
   "cell_type": "markdown",
   "id": "549d589b",
   "metadata": {},
   "source": [
    "Q1. What are the two values of the Boolean data type? How do you write them?\n",
    "\n",
    "Answer\n",
    "The Boolean data type can have two values only which can be either 0 or 1 and are written as - True and False\n",
    "\n",
    "Q2. What are the three different types of Boolean operators?\n",
    "\n",
    "Answer\n",
    "Three different types of Boolean operators: AND, OR, NOT \n",
    "\n",
    "Q3. Make a list of each Boolean operator's truth tables (i.e., every possible combination of Boolean values for the operator and what it evaluates).\n",
    "\n",
    "Answer\n",
    "  A\t      B\t   A and B\n",
    "True\tTrue\tTrue\n",
    "False\tTrue\tFalse\n",
    "True\tFalse\tFalse\n",
    "False\tFalse\tFalse\n",
    "\n",
    " A\t      B    A or B\n",
    "True\tTrue\tTrue\n",
    "False\tTrue\tTrue\n",
    "True\tFalse\tTrue\n",
    "False\tFalse\tFalse\n",
    "\n",
    " A\t    NOT A\t\n",
    "True\tFalse\t\n",
    "False\tTrue\t\n",
    "\n",
    "Q4. What are the values of the following expressions?\n",
    "(5 > 4) and (3 == 5) \n",
    "not (5 > 4) \n",
    "(5 > 4) or (3 == 5) \n",
    "not ((5 > 4) or (3 == 5)) \n",
    "(True and True) and (True == False) \n",
    "(not False) or (not True) \n",
    "\n",
    "Answer\n",
    "(5 > 4) and (3 == 5) => False\n",
    "not (5 > 4) => False\n",
    "(5 > 4) or (3 == 5) => True\n",
    "not ((5 > 4) or (3 == 5)) => False\n",
    "(True and True) and (True == False) => False\n",
    "(not False) or (not True) => True\n",
    "\n",
    "Q5. What are the six comparison operators?\n",
    "\n",
    "Answer\n",
    "=, <, >, <=, >=, !=\n",
    "\n",
    "Q6. How do you tell the difference between the equal to and assignment operators? Describe a condition and when you would use one.\n",
    "\n",
    "Answer\n",
    "equal to (==) operator is a comparison operator and it is used to check whether two values/variables are equal or not. If the condition satisfies then, it returns with True otherwise False. \n",
    "Whereas, the assignment (=) operator is used to assign values to a variable that is to assign the value of the right side of the expression to the left side operand.\n",
    "\n",
    "For example, \n",
    "If we want to assign a value 5 to variable A, we will use the assignment operator.\n",
    "A = 5\n",
    "Whereas, if we want to check whether two values are equal or not, we use equal to operator\n",
    "“mks” == “mks”\n",
    "It returns True.\n",
    "\n",
    "Q7. Identify the three blocks in this code:\n",
    "spam = 0\n",
    "if spam == 10:\n",
    "print('eggs')\n",
    "\n",
    "if spam > 5:\n",
    "print('bacon')\n",
    "\n",
    "else:\n",
    "print('ham')\n",
    "print('spam')\n",
    "print('spam')\n",
    "\n",
    "Answer\n",
    "Block 1 – Value assignment code\n",
    "spam = 0\n",
    "if spam == 10:\n",
    "print('eggs')\n",
    "\n",
    "Block 2 – if condition code \n",
    "if spam > 5:\n",
    "print('bacon')\n",
    "\n",
    "Block 3 – else condition code\n",
    "else:\n",
    "print('ham')\n",
    "print('spam')\n",
    "print('spam')\n",
    "\n",
    "Q8. Write code that prints Hello if 1 is stored in spam, prints Howdy if 2 is stored in spam, and prints Greetings! if anything else is stored in spam.\n",
    "\n",
    "Answer in the code section below"
   ]
  },
  {
   "cell_type": "code",
   "execution_count": 13,
   "id": "c0836ecd",
   "metadata": {},
   "outputs": [
    {
     "name": "stdout",
     "output_type": "stream",
     "text": [
      "Greetings!\n"
     ]
    }
   ],
   "source": [
    "spam = 3\n",
    "\n",
    "if spam == 1:\n",
    "    print(\"Hello\")\n",
    "elif spam == 2:\n",
    "    print(\"Howdy\")\n",
    "\n",
    "else:\n",
    "    print(\"Greetings!\")\n"
   ]
  },
  {
   "cell_type": "markdown",
   "id": "671dba30",
   "metadata": {},
   "source": [
    "Q9.If your programme is stuck in an endless loop, what keys you’ll press?\n",
    "\n",
    "Answer\n",
    "In Google Colab ctrl + M I and ctrl + c for Jupyter notebook\n",
    "\n",
    "Q10. How can you tell the difference between break and continue?\n",
    "\n",
    "Answer\n",
    "The ‘break’ statement is a loop control statement, it is used to terminate or stop the loop or statement in which it is present. After that, it passes the control to the statements which are out of the loop and are present after the break statement, if any. It is used to terminate the loop statements like while and for.\n",
    "The ‘continue’ statement is just opposite to that of a break statement. Instead of terminating or stopping the loop, it forces to execute the next iteration of the loop while skipping the code inside the loop following the continue statement, and the next iteration of the loop will begin.\n",
    "\n",
    "Q11. In a for loop, what is the difference between range(10), range(0, 10), and range(0, 10, 1)?\n",
    "\n",
    "Answer\n",
    "If we see it by shallow eyes and see only in regards to the arguments given, there is no difference as range(10), range (0,10), and range (0,10,1) all of these three return the same sequence from 0 to 9.\n",
    "\n",
    "Let us first look what is range function and will define the actual difference among these three after that.\n",
    "range function in Python takes 3 arguments and they are initial value, final value, and increment value as shown below\n",
    "\n",
    "range(start, stop, step)\n",
    "•start: integer starting from which the sequence of integers starts and to be returned\n",
    "•stop: This is the integer which is outbound excluded which means this is excluded from the values returned in the final sequence. In other words, it stops at ‘stop – 1’ value.\n",
    "•step: integer value which determines the increment between each integer in the sequence\n",
    "\n",
    "The actual difference comes into the picture when we change the value of arguments. \n",
    "So for range(10) it will print a sequence from 0 to 9, but for range(0,10), we can change the starting point as range(1,10), and therefore instead of returning a sequence from 0 to 9, it will now return the sequence from 1 to 9. \n",
    "Similarly, for range(0, 10, 1) it will return a sequence from 0 to 9 but if we change it to range(1, 10, 2) it will jump two steps from the starting argument given and will return the sequence from 1 to 9 with two steps at each next return. This difference is shown below by running the example code in the code section below.\n",
    "\n",
    "Q12. Write a short program that prints the numbers 1 to 10 using a for loop. Then write an equivalent program that prints the numbers 1 to 10 using a while loop.\n",
    "\n",
    "Answer in code section below\n"
   ]
  },
  {
   "cell_type": "code",
   "execution_count": 14,
   "id": "837c6816",
   "metadata": {},
   "outputs": [
    {
     "name": "stdout",
     "output_type": "stream",
     "text": [
      "1\n",
      "2\n",
      "3\n",
      "4\n",
      "5\n",
      "6\n",
      "7\n",
      "8\n",
      "9\n",
      "10\n"
     ]
    }
   ],
   "source": [
    "#1 to 10 using a for loop\n",
    "for i in range(1,11):\n",
    "  print(i)"
   ]
  },
  {
   "cell_type": "code",
   "execution_count": 15,
   "id": "a6640239",
   "metadata": {},
   "outputs": [
    {
     "name": "stdout",
     "output_type": "stream",
     "text": [
      "1\n",
      "2\n",
      "3\n",
      "4\n",
      "5\n",
      "6\n",
      "7\n",
      "8\n",
      "9\n",
      "10\n"
     ]
    }
   ],
   "source": [
    "#1 to 10 using a while loop\n",
    "i = 1\n",
    "while i < 11:\n",
    "  print(i)\n",
    "  i+=1 "
   ]
  },
  {
   "cell_type": "markdown",
   "id": "39af7553",
   "metadata": {},
   "source": [
    "Q13. If you had a function named bacon() inside a module named spam, how would you call it after importing spam?\n",
    "\n",
    "Answer\n",
    "If we have bacon() function in the spam module then first we need to import the module and then we need to import the function too.\n",
    "\n",
    "from spam import bacon \n",
    "spam. bacon()\n",
    "\n",
    "Either of the above two codes can be used to import functions from the given module. And then we can use the imported function for our own utilities.\n"
   ]
  }
 ],
 "metadata": {
  "kernelspec": {
   "display_name": "Python 3 (ipykernel)",
   "language": "python",
   "name": "python3"
  },
  "language_info": {
   "codemirror_mode": {
    "name": "ipython",
    "version": 3
   },
   "file_extension": ".py",
   "mimetype": "text/x-python",
   "name": "python",
   "nbconvert_exporter": "python",
   "pygments_lexer": "ipython3",
   "version": "3.9.12"
  }
 },
 "nbformat": 4,
 "nbformat_minor": 5
}
