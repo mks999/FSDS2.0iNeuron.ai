{
  "cells": [
    {
      "cell_type": "markdown",
      "metadata": {
        "id": "cyOfbWCdOjEr"
      },
      "source": [
        "# ASSIGNMENT 3 - Compulsory\n",
        "#Submitted by: Manish Kumar Sharma"
      ]
    },
    {
      "cell_type": "markdown",
      "metadata": {
        "id": "GT4IytkJMNa-"
      },
      "source": [
        "## Python String Manipulation\n",
        "\n",
        "1. Count the number of times `iNeuron` appears in the string.\n",
        "```python\n",
        "text = \"Welcome to iNeuron, You are a part of FSDS Bootcamp 2 in iNeuron. I hope you are enjoying the course by iNeuron\"\n",
        "```\n",
        "\n",
        "Answer: As per code in below section iNeuron comes 3 times."
      ]
    },
    {
      "cell_type": "code",
      "execution_count": 1,
      "metadata": {
        "colab": {
          "base_uri": "https://localhost:8080/"
        },
        "id": "KwVni9gipNi-",
        "outputId": "ab6a234a-2255-4e98-ccdc-08891657018a"
      },
      "outputs": [
        {
          "data": {
            "text/plain": [
              "3"
            ]
          },
          "execution_count": 1,
          "metadata": {},
          "output_type": "execute_result"
        }
      ],
      "source": [
        "text = \"Welcome to iNeuron, You are a part of FSDS Bootcamp 2 in iNeuron. I hope you are enjoying the course by iNeuron\"\n",
        "text.count(\"iNeuron\")"
      ]
    },
    {
      "cell_type": "markdown",
      "metadata": {
        "id": "wODv12gnfdlZ"
      },
      "source": [
        "2. Check if position `5` to `11` ends with the phrase `iNeuron.` in the string \n",
        "```python\n",
        "txt = \"Hello, welcome to FSDS 2.0 at iNeuron.\"\n",
        "```\n",
        "Answer: No, it doesn't (code shown below for checking)"
      ]
    },
    {
      "cell_type": "code",
      "execution_count": null,
      "metadata": {
        "colab": {
          "base_uri": "https://localhost:8080/",
          "height": 35
        },
        "id": "1SM3hSl-fjFp",
        "outputId": "19add885-1171-4acb-ee0b-4fac168d5a25"
      },
      "outputs": [
        {
          "data": {
            "application/vnd.google.colaboratory.intrinsic+json": {
              "type": "string"
            },
            "text/plain": [
              "', welc'"
            ]
          },
          "execution_count": 2,
          "metadata": {},
          "output_type": "execute_result"
        }
      ],
      "source": [
        "txt = \"Hello, welcome to FSDS 2.0 at iNeuron.\"\n",
        "position_check = txt[4:11]\n",
        "position_check"
      ]
    },
    {
      "cell_type": "markdown",
      "metadata": {
        "id": "fCbFmS2Yfji7"
      },
      "source": [
        "3. Write a program that takes your full name as input and displays the abbreviations of the first and middle names except the last name which is displayed as it is. For example, if your name is Sunny Bhaveen Chandra, then the output should be S.B.Chandra.\n",
        "\n",
        "Answer: Given in code below"
      ]
    },
    {
      "cell_type": "code",
      "execution_count": 9,
      "metadata": {
        "colab": {
          "base_uri": "https://localhost:8080/"
        },
        "id": "EydjIJc3fmu7",
        "outputId": "60c7e8c0-08ab-4ea7-b3df-96e48b8f5f05"
      },
      "outputs": [
        {
          "name": "stdout",
          "output_type": "stream",
          "text": [
            "Enter your name: Manish Kumar Sharma\n",
            "M.K.Sharma\n"
          ]
        }
      ],
      "source": [
        "name = input(\"Enter your name: \")\n",
        "name_set = name.split(\" \")\n",
        "print(f\"{name_set[0][0]}.{name_set[1][0]}.{name_set[2]}\")"
      ]
    },
    {
      "cell_type": "markdown",
      "metadata": {
        "id": "LjuSPGsMfnLf"
      },
      "source": [
        "4. Join all items in a list into a string, using a hash(`#`) character as separator:\n",
        "```python\n",
        "LIST = [\"My\", \"name\", \"is\", \"Rishav\", \"Dash\"]\n",
        "```\n",
        "Answer: Given in code below"
      ]
    },
    {
      "cell_type": "code",
      "execution_count": 11,
      "metadata": {
        "colab": {
          "base_uri": "https://localhost:8080/",
          "height": 35
        },
        "id": "YcUYtA7QfpPr",
        "outputId": "43859db1-48b6-4a61-8f94-f6e0643610ef"
      },
      "outputs": [
        {
          "data": {
            "application/vnd.google.colaboratory.intrinsic+json": {
              "type": "string"
            },
            "text/plain": [
              "'My#name#is#Rishav#Dash'"
            ]
          },
          "execution_count": 11,
          "metadata": {},
          "output_type": "execute_result"
        }
      ],
      "source": [
        "LIST = [\"My\", \"name\", \"is\", \"Rishav\", \"Dash\"]\n",
        "'#'.join(LIST)"
      ]
    },
    {
      "cell_type": "markdown",
      "metadata": {
        "id": "1uDQkY6efptT"
      },
      "source": [
        "5. Write example for the following string manipulation function,\n",
        "\n",
        "  ```\n",
        "  - isdecimal()\n",
        "  - islower()\n",
        "  - isupper()\n",
        "  - isalpha()\n",
        "  - isnumeric()\n",
        "\n",
        "  ```\n",
        "Answer: Given in codes below"
      ]
    },
    {
      "cell_type": "code",
      "execution_count": 19,
      "metadata": {
        "colab": {
          "base_uri": "https://localhost:8080/"
        },
        "id": "sNmXoumofry5",
        "outputId": "7beccc35-aa90-4e7e-938d-cd93c0ece393"
      },
      "outputs": [
        {
          "name": "stdout",
          "output_type": "stream",
          "text": [
            "expr isdecimal()? True\n"
          ]
        }
      ],
      "source": [
        "expr = \"100\"  \n",
        "print(\"expr isdecimal()?\", expr.isdecimal())"
      ]
    },
    {
      "cell_type": "code",
      "execution_count": 21,
      "metadata": {
        "colab": {
          "base_uri": "https://localhost:8080/"
        },
        "id": "TebJqDvsjJ1R",
        "outputId": "02f3bf59-b59f-4324-ff80-4ae89586d20c"
      },
      "outputs": [
        {
          "data": {
            "text/plain": [
              "True"
            ]
          },
          "execution_count": 21,
          "metadata": {},
          "output_type": "execute_result"
        }
      ],
      "source": [
        "a = \"sunny\"\n",
        "a.islower()"
      ]
    },
    {
      "cell_type": "code",
      "execution_count": 22,
      "metadata": {
        "colab": {
          "base_uri": "https://localhost:8080/"
        },
        "id": "3BKkyVObjKyP",
        "outputId": "ed48bdcf-154e-4bc2-836e-562437122c99"
      },
      "outputs": [
        {
          "data": {
            "text/plain": [
              "True"
            ]
          },
          "execution_count": 22,
          "metadata": {},
          "output_type": "execute_result"
        }
      ],
      "source": [
        "b = \"KOFI\"\n",
        "b.isupper()"
      ]
    },
    {
      "cell_type": "code",
      "execution_count": 23,
      "metadata": {
        "colab": {
          "base_uri": "https://localhost:8080/"
        },
        "id": "C3FvWEaFjKmQ",
        "outputId": "77ceb992-ac75-4db9-bf9d-378cad77412b"
      },
      "outputs": [
        {
          "data": {
            "text/plain": [
              "True"
            ]
          },
          "execution_count": 23,
          "metadata": {},
          "output_type": "execute_result"
        }
      ],
      "source": [
        "c = \"kpr\"\n",
        "c.isalpha()"
      ]
    },
    {
      "cell_type": "code",
      "execution_count": 25,
      "metadata": {
        "colab": {
          "base_uri": "https://localhost:8080/"
        },
        "id": "qeT01ml9jKTI",
        "outputId": "b101af28-449a-4574-a3d4-7780546c93ca"
      },
      "outputs": [
        {
          "data": {
            "text/plain": [
              "True"
            ]
          },
          "execution_count": 25,
          "metadata": {},
          "output_type": "execute_result"
        }
      ],
      "source": [
        "d = \"4\"\n",
        "d.isnumeric()"
      ]
    },
    {
      "cell_type": "markdown",
      "metadata": {
        "id": "TfbmS7UVfsSC"
      },
      "source": [
        "6. Indian PAN card format follows the following formats - \n",
        "    - `AYEPC7894X`\n",
        "    - `ABCDE9999Y`\n",
        "  Take user input for PAN_CARD and validate as per the above example."
      ]
    },
    {
      "cell_type": "code",
      "execution_count": 28,
      "metadata": {
        "colab": {
          "base_uri": "https://localhost:8080/"
        },
        "id": "ksYFwOcO9e7Y",
        "outputId": "c9811eb4-947a-49ad-a9f3-c043dacfe0a8"
      },
      "outputs": [
        {
          "name": "stdout",
          "output_type": "stream",
          "text": [
            "Enter your PAN card number: AYEPC78942\n",
            "Enetered value incorrect, Please enter the PAN card value in correct format.\n"
          ]
        }
      ],
      "source": [
        "PAN_CARD = input(\"Enter your PAN card number: \")\n",
        "if len(PAN_CARD) == 10 and PAN_CARD[0:5].isalpha() == True and PAN_CARD[5:9].isdigit() == True and PAN_CARD[-1].isalpha() == True:\n",
        "  print(f\"PAN card value entered: {PAN_CARD}, is correct.\")\n",
        "\n",
        "else:\n",
        "  print(f\"Enetered value incorrect, Please enter the PAN card value in correct format.\")\n"
      ]
    },
    {
      "cell_type": "code",
      "execution_count": 28,
      "metadata": {
        "id": "sBhXvcAj_LUl"
      },
      "outputs": [],
      "source": []
    }
  ],
  "metadata": {
    "colab": {
      "collapsed_sections": [],
      "provenance": []
    },
    "kernelspec": {
      "display_name": "Python 3",
      "name": "python3"
    },
    "language_info": {
      "name": "python"
    }
  },
  "nbformat": 4,
  "nbformat_minor": 0
}
