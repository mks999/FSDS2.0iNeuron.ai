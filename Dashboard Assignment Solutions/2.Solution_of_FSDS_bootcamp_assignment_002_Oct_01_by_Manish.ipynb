{
  "nbformat": 4,
  "nbformat_minor": 0,
  "metadata": {
    "colab": {
      "provenance": [],
      "collapsed_sections": []
    },
    "kernelspec": {
      "name": "python3",
      "display_name": "Python 3"
    },
    "language_info": {
      "name": "python"
    }
  },
  "cells": [
    {
      "cell_type": "markdown",
      "source": [
        "# ASSIGNMENTS - Compulsory\n",
        "## Send it before 0000 hrs IST or 12 AM Wednesday\n",
        "\n",
        "## NOTE: Evaluation will be done before next class.\n",
        "\n",
        "## HOW TO SUBMIT: -\n",
        "Download this notebook, Solve it and upload in the google form given in the mail."
      ],
      "metadata": {
        "id": "cyOfbWCdOjEr"
      }
    },
    {
      "cell_type": "markdown",
      "source": [
        "1. What is indentation error? Why indentation is important? Give one simple example?\n",
        "\n",
        "Indentation error is the error which is shown when proper spacing is not given in the next line of a code under/after which we want to execute it. Indentation is very important because it helps the program to understand and differentiate that which line of code to execute if a condition is true or a function is called, just before it. If indent is not given, it will give indenatation error and program will not understand the logic following the previous code and will not run. It is mostly used in conditional, comparison, operator and functional program codes.\n",
        "\n",
        "The  example is shown in code section below  - It will show an IndentationError: expected an indented block, because after if condition, print is not given proper tabspace and therefore it is not executed.\n"
      ],
      "metadata": {
        "id": "WT2hp_YL4nxQ"
      }
    },
    {
      "cell_type": "code",
      "source": [
        "#For Example:\n",
        "\n",
        "raining = True\n",
        "if raining: # TRUE CONDITION \n",
        "print(\"Lets do work from home\") # This statement not exectuted due to indentation error\n",
        "else:\n",
        "    print(\"Lets go to office\")"
      ],
      "metadata": {
        "colab": {
          "base_uri": "https://localhost:8080/",
          "height": 130
        },
        "id": "yYWyoxG_IxCK",
        "outputId": "ed5d2e0e-0e75-48bf-b4ff-3558c49629b5"
      },
      "execution_count": 90,
      "outputs": [
        {
          "output_type": "error",
          "ename": "IndentationError",
          "evalue": "ignored",
          "traceback": [
            "\u001b[0;36m  File \u001b[0;32m\"<ipython-input-90-04cf1fda272d>\"\u001b[0;36m, line \u001b[0;32m6\u001b[0m\n\u001b[0;31m    print(\"Lets do work from home\") # This statemen exectuted\u001b[0m\n\u001b[0m        ^\u001b[0m\n\u001b[0;31mIndentationError\u001b[0m\u001b[0;31m:\u001b[0m expected an indented block\n"
          ]
        }
      ]
    },
    {
      "cell_type": "markdown",
      "source": [
        "2. Correct the following code and write the comment where you made the correction?\n",
        "   **HINT:** Refer your data type conversion class\n",
        "\n",
        "   Answer is in code section below"
      ],
      "metadata": {
        "id": "0afm5sz9Iuqz"
      }
    },
    {
      "cell_type": "code",
      "source": [
        "class_started = bool(int(input(\"Hey friend, is class started?: [0-False/1-True]\")))\n",
        "#Correction in the above line, Input has to be integer type first & then be converted to Bool type\n",
        "\n",
        "if class_started:\n",
        "  print(\"Since class started...\")\n",
        "  print(\"Lets concentrate\")\n",
        "else:\n",
        "  print(\"Since class is not started...\")\n",
        "  print(\"let's revise\")   "
      ],
      "metadata": {
        "colab": {
          "base_uri": "https://localhost:8080/"
        },
        "id": "pKnm2kb-I_bn",
        "outputId": "c099681d-47e9-4223-8a36-ee9fe4710aa9"
      },
      "execution_count": 70,
      "outputs": [
        {
          "output_type": "stream",
          "name": "stdout",
          "text": [
            "Hey friend, is class started?: [0-False/1-True]0\n",
            "Since class is not started...\n",
            "let's revise\n"
          ]
        }
      ]
    },
    {
      "cell_type": "markdown",
      "source": [
        "3. Use if else condition to verify that dataype of `input()` method in python is always string.\n",
        "\n",
        "Answer is in code section below"
      ],
      "metadata": {
        "id": "RNzuaEx5KTqa"
      }
    },
    {
      "cell_type": "code",
      "source": [
        "a = input(\"Enter any data type as input = \")\n",
        "if type(a) == int:\n",
        "  print (\"data type of a=input() is int\")\n",
        "  if type(a) == bool:\n",
        "    print (\"data type of a=input() is bool\")\n",
        "    if type(a) == float:\n",
        "      print (\"data type of a=input() is float\")\n",
        "      if type(a) == complex:\n",
        "        print (f\"data type of a=input() is complex\")\n",
        "\n",
        "else:\n",
        "  print (\"data type of a=input() is string\")\n"
      ],
      "metadata": {
        "colab": {
          "base_uri": "https://localhost:8080/"
        },
        "id": "yGQp4ZLNKVYw",
        "outputId": "9117b068-efec-4ebc-b724-8d33ff97253b"
      },
      "execution_count": 16,
      "outputs": [
        {
          "output_type": "stream",
          "name": "stdout",
          "text": [
            "Enter any data type as input: 1\n",
            "data type of a=input() is string\n"
          ]
        }
      ]
    },
    {
      "cell_type": "markdown",
      "source": [
        "4. Take 3 variables and assign integer values to them. Find the largest variable, by only using the if and else conditions.\n",
        "\n",
        "Answer is in code section below"
      ],
      "metadata": {
        "id": "hRG86W8dY-sK"
      }
    },
    {
      "cell_type": "code",
      "source": [
        "a = 21\n",
        "b = 20\n",
        "c = 18\n",
        "\n",
        "if a>b>c:\n",
        "  print(\"a is the largest number\")\n",
        "elif a>c>b:\n",
        "  print(\"a is the largest number\")\n",
        "elif b>c>a:\n",
        "  print(\"b is the largest number\")\n",
        "elif b>a>c:\n",
        "  print(\"b is the largest number\")\n",
        "else:\n",
        "  print(\"c is the largest number\")"
      ],
      "metadata": {
        "colab": {
          "base_uri": "https://localhost:8080/"
        },
        "id": "LBoTTNWFY_ot",
        "outputId": "e846d68a-2c83-46ba-b355-39d2ae7d6958"
      },
      "execution_count": 78,
      "outputs": [
        {
          "output_type": "stream",
          "name": "stdout",
          "text": [
            "a is the largest number\n"
          ]
        }
      ]
    },
    {
      "cell_type": "markdown",
      "source": [
        "5. What would be the solution?\n",
        "    1. True\n",
        "    2. False\n",
        "\n",
        "Answer - False"
      ],
      "metadata": {
        "id": "B_2VqC44ePcP"
      }
    },
    {
      "cell_type": "code",
      "source": [
        "    a = 6\n",
        "    b = 10\n",
        "    print( not ( not a == 10 or not b == 10) )\n",
        "\n",
        "    #Answer - 2. False"
      ],
      "metadata": {
        "colab": {
          "base_uri": "https://localhost:8080/"
        },
        "id": "q6wuKfiPeV_M",
        "outputId": "aafaf4e5-3b8b-4f9f-b4d5-af858324976b"
      },
      "execution_count": 39,
      "outputs": [
        {
          "output_type": "stream",
          "name": "stdout",
          "text": [
            "False\n"
          ]
        }
      ]
    },
    {
      "cell_type": "markdown",
      "source": [
        "\n",
        "6. Find the answer as well as find out the reason behind the result? -\n",
        "    - case 1:\n",
        "        ```python\n",
        "        A = 5.0\n",
        "        B = 10/2\n",
        "        print(A is B)\n",
        "        ```\n",
        "Answer - False\n",
        "#####Reason - Because memory is assigned to the value of variable passed, not the variable name and When using 'is' we are also comparing the memory location as well as values, which is not the same for A and B in above example as both are different data types.\n",
        "\n",
        "    - case 2:\n",
        "        ```python\n",
        "        A = 5.0\n",
        "        B = int(10/2)\n",
        "        print(A is B)\n",
        "        ```\n",
        "Answer - False\n",
        "#####Reason - A is float data type while B is integer data type and 'is' function compares memory id of variables, in python memory id allocated is different for different data types and is not the same for A and B in above example as both are different data types. \n",
        "\n",
        "    - case 3:\n",
        "        ```python\n",
        "        A = 5.0\n",
        "        B = float(10/2)\n",
        "        print(A is B)\n",
        "        ```\n",
        "Answer - False\n",
        "#####Reason - Because the numbers 1-256 are already stored in python and that way different variables pointing at those values will have the same memory id. But Float numbers, for above example, are dynamically allocated and will not share the same id despite being immutable. Also the type coversion to float uses float() function and it's arguement may change. That is why both do not use same memory and allocated separate memory id. "
      ],
      "metadata": {
        "id": "GT4IytkJMNa-"
      }
    },
    {
      "cell_type": "markdown",
      "source": [
        "### Try to understand the following examples and answer the question based on it - \n",
        "    \n",
        "**Arithmatic Operators**\n",
        "\n",
        "|Operation|Meaning|\n",
        "|:-:|:-:|\n",
        "| **+** |addition|\n",
        "| **-** |subtraction|\n",
        "| **\\*** |multiplication|\n",
        "| **/** |true division|\n",
        "| **//** |integer division|\n",
        "| **%** |the modulo operator|\n",
        "\n",
        "\n",
        "Here `+`, `-`, `*`, `/` are regular arithmatic operators. Lets look at the `//` and `%` operators\n",
        "\n",
        "Usecase or examples - \n",
        "    \n",
        "```python\n",
        "var_a = 5\n",
        "var_b = 25\n",
        "integer_division = var_b // var_a\n",
        "print(f\"integer division: {var_b}/{var_a}={integer_division}\")\n",
        "```\n",
        "\n",
        "OUTPUT: integer division: 25/5=5\n",
        "\n",
        "```python\n",
        "var_a = 3\n",
        "var_b = 25\n",
        "integer_division = var_b // var_a\n",
        "print(f\"integer division: {var_b}/{var_a}={integer_division}\")\n",
        "```\n",
        "\n",
        "OUTPUT: integer division: 25/3=8\n",
        "\n",
        "```python\n",
        "var_a = 5\n",
        "var_b = 25\n",
        "remainder = var_b % var_a\n",
        "print(f\"remainder: {var_b}/{var_a} is {remainder}\")\n",
        "```\n",
        "\n",
        "OUTPUT: remainder: 25/5 is 0\n",
        "\n",
        "```python\n",
        "var_a = 3\n",
        "var_b = 25\n",
        "remainder = var_b % var_a\n",
        "print(f\"remainder: {var_b}/{var_a} is {remainder}\")\n",
        "```\n",
        "\n",
        "OUTPUT: remainder: 25/3 is 1\n",
        "\n"
      ],
      "metadata": {
        "id": "a_4kbBVWNY-4"
      }
    },
    {
      "cell_type": "markdown",
      "source": [
        "### Answer below questions on the above theory - \n",
        "\n",
        "7. Write a program that asks the user to enter a number. You should print out a message to the user, either “That number is divisible by either 3 or 5”, or “That number is not divisible by either 3 or 5”. Be sure to consider the data type of the input you are taking in from the user. Use a single if/else block to solve this problem.\n",
        "\n",
        "Answer is in code section below"
      ],
      "metadata": {
        "id": "v288WPlMNxmM"
      }
    },
    {
      "cell_type": "code",
      "source": [
        "a = int(input(\"Enter a number: \"))\n",
        "if a%3 == 0 or a%5 == 0 :\n",
        "  print(\"The entered number is divisible by either 3 or 5\")\n",
        "else:\n",
        "  print(\"The entered number is not divisible by either 3 or 5\")\n"
      ],
      "metadata": {
        "colab": {
          "base_uri": "https://localhost:8080/"
        },
        "id": "TcBphpJGrI0N",
        "outputId": "cbc2b7ad-2a46-4e6e-cd7a-4323ec4aae15"
      },
      "execution_count": 57,
      "outputs": [
        {
          "output_type": "stream",
          "name": "stdout",
          "text": [
            "Enter a number: 23\n",
            "The entered number is not divisible by either 3 or 5\n"
          ]
        }
      ]
    },
    {
      "cell_type": "markdown",
      "source": [
        "8. Take user input for length and width. Then calculate the area of rectangle. Also print as per length and width whether its a square or rectangle.\n",
        "\n",
        "Answer is in code section below\n"
      ],
      "metadata": {
        "id": "sFzGmbb1rJFe"
      }
    },
    {
      "cell_type": "code",
      "source": [
        "length = int(input(\"Enter length size: \"))\n",
        "width = int(input(\"Enter width size: \"))\n",
        "area = length * width\n",
        "print(f\"Area of rectange is = {area}\")\n",
        "if length == width:\n",
        "  print(\"it is a suqare\")\n",
        "else:\n",
        "  print(\"it is a rectangle\")"
      ],
      "metadata": {
        "colab": {
          "base_uri": "https://localhost:8080/"
        },
        "id": "lEonzCbKrLXL",
        "outputId": "eafdad64-b224-4a87-938c-4ec659982b59"
      },
      "execution_count": 63,
      "outputs": [
        {
          "output_type": "stream",
          "name": "stdout",
          "text": [
            "Enter length size: 5\n",
            "Enter width size: 6\n",
            "Area of rectange is = 30\n",
            "it is a rectangle\n"
          ]
        }
      ]
    },
    {
      "cell_type": "markdown",
      "source": [
        "9. Take two variable radius_1 and radius_2 and calculate the area of circle_1 and circle_2. Also print which circle has large area. If area is equal then print area is equal.\n",
        "\n",
        "Answer is in code section below"
      ],
      "metadata": {
        "id": "q1gmQQsIrLi7"
      }
    },
    {
      "cell_type": "code",
      "source": [
        "radius_1 = int(input(\"Enter radius of circle 1: \"))\n",
        "radius_2 = int(input(\"Enter radius of circle 2: \"))\n",
        "pi=22/7\n",
        "area1 = pi*(radius_1**2)  \n",
        "area2 = pi*(radius_2**2) \n",
        "print(f\"area of circle_1 is = {area1}\")\n",
        "print(f\"area of circle_2 is = {area2}\")\n",
        "\n",
        "if area1>area2:\n",
        "  print(\"area of circle 1 is greater than area of circle 2\")\n",
        "elif area1 == area2:\n",
        "  print(\"area of circle 1 and circle 2 is equal\")\n",
        "else:\n",
        "  print(\"area of circle 2 is greater than area of circle 1\")"
      ],
      "metadata": {
        "colab": {
          "base_uri": "https://localhost:8080/"
        },
        "id": "2rVZOsjorNyV",
        "outputId": "890d692a-3c49-4028-be2f-7cc70d1a5213"
      },
      "execution_count": 73,
      "outputs": [
        {
          "output_type": "stream",
          "name": "stdout",
          "text": [
            "Enter radius of circle 1: 3\n",
            "Enter radius of circle 2: 2\n",
            "area of circle_1 is = 28.285714285714285\n",
            "area of circle_2 is = 12.571428571428571\n",
            "area of circle 1 is greater than area of circle 2\n"
          ]
        }
      ]
    },
    {
      "cell_type": "markdown",
      "source": [
        "10. Check whether a year is leap year or not. Use nested if...else to solve this problem. A leap year is exactly divisible by 4 except for century years (years ending with 00). The century year is a leap year only if it is perfectly divisible by 400.\n",
        "\n",
        "Answer is in code section below"
      ],
      "metadata": {
        "id": "kDvxlxAjrN9T"
      }
    },
    {
      "cell_type": "code",
      "source": [
        "year = int(input(\"Enter the year: \"))\n",
        "if year % 4 == 0 and year % 100 != 0:\n",
        "  print(f\"{year} is a leap year\")\n",
        "elif year % 100 == 0 and year % 400 == 0:\n",
        "    print(f\"{year} is a leap year\")\n",
        "else:\n",
        "  print(f\"{year} is not a leap year\")"
      ],
      "metadata": {
        "colab": {
          "base_uri": "https://localhost:8080/"
        },
        "id": "XZawAvUArO3D",
        "outputId": "48488428-e69f-46c4-acfb-fb6f76ba873a"
      },
      "execution_count": 89,
      "outputs": [
        {
          "output_type": "stream",
          "name": "stdout",
          "text": [
            "Enter the year: 2004\n",
            "2004 is a leap year\n"
          ]
        }
      ]
    }
  ]
}